{
 "cells": [
  {
   "cell_type": "markdown",
   "id": "ce402b68",
   "metadata": {},
   "source": [
    "### Libraries Loading"
   ]
  },
  {
   "cell_type": "code",
   "execution_count": 203,
   "id": "2391dac7",
   "metadata": {
    "scrolled": false
   },
   "outputs": [],
   "source": [
    "import numpy as np\n",
    "import pandas as pd\n",
    "from random import randint\n",
    "\n",
    "from sklearn import cluster, datasets\n",
    "from sklearn.preprocessing import StandardScaler\n",
    "from matplotlib.lines import Line2D\n",
    "from sklearn.cluster import KMeans\n",
    "\n",
    "import spotipy\n",
    "from spotipy.oauth2 import SpotifyClientCredentials\n",
    "\n",
    "import matplotlib.pyplot as plt\n",
    "%matplotlib inline\n",
    "\n",
    "import warnings\n",
    "warnings.filterwarnings('ignore')"
   ]
  },
  {
   "cell_type": "markdown",
   "id": "6a6c48b3",
   "metadata": {},
   "source": [
    "### Load the audio features DataFrame previously constructed for 49k+ songs (Spotify Large Playlists)"
   ]
  },
  {
   "cell_type": "code",
   "execution_count": 204,
   "id": "5a786e59",
   "metadata": {
    "scrolled": true
   },
   "outputs": [
    {
     "data": {
      "text/plain": [
       "(49654, 18)"
      ]
     },
     "metadata": {},
     "output_type": "display_data"
    },
    {
     "data": {
      "text/html": [
       "<div>\n",
       "<style scoped>\n",
       "    .dataframe tbody tr th:only-of-type {\n",
       "        vertical-align: middle;\n",
       "    }\n",
       "\n",
       "    .dataframe tbody tr th {\n",
       "        vertical-align: top;\n",
       "    }\n",
       "\n",
       "    .dataframe thead th {\n",
       "        text-align: right;\n",
       "    }\n",
       "</style>\n",
       "<table border=\"1\" class=\"dataframe\">\n",
       "  <thead>\n",
       "    <tr style=\"text-align: right;\">\n",
       "      <th></th>\n",
       "      <th>danceability</th>\n",
       "      <th>energy</th>\n",
       "      <th>key</th>\n",
       "      <th>loudness</th>\n",
       "      <th>mode</th>\n",
       "      <th>speechiness</th>\n",
       "      <th>acousticness</th>\n",
       "      <th>instrumentalness</th>\n",
       "      <th>liveness</th>\n",
       "      <th>valence</th>\n",
       "      <th>tempo</th>\n",
       "      <th>type</th>\n",
       "      <th>id</th>\n",
       "      <th>uri</th>\n",
       "      <th>track_href</th>\n",
       "      <th>analysis_url</th>\n",
       "      <th>duration_ms</th>\n",
       "      <th>time_signature</th>\n",
       "    </tr>\n",
       "  </thead>\n",
       "  <tbody>\n",
       "    <tr>\n",
       "      <th>0</th>\n",
       "      <td>0.532</td>\n",
       "      <td>0.887</td>\n",
       "      <td>0</td>\n",
       "      <td>-3.757</td>\n",
       "      <td>1</td>\n",
       "      <td>0.0335</td>\n",
       "      <td>0.07780</td>\n",
       "      <td>0.000214</td>\n",
       "      <td>0.2940</td>\n",
       "      <td>0.795</td>\n",
       "      <td>122.511</td>\n",
       "      <td>audio_features</td>\n",
       "      <td>37ZJ0p5Jm13JPevGcx4SkF</td>\n",
       "      <td>spotify:track:37ZJ0p5Jm13JPevGcx4SkF</td>\n",
       "      <td>https://api.spotify.com/v1/tracks/37ZJ0p5Jm13J...</td>\n",
       "      <td>https://api.spotify.com/v1/audio-analysis/37ZJ...</td>\n",
       "      <td>249293</td>\n",
       "      <td>4</td>\n",
       "    </tr>\n",
       "    <tr>\n",
       "      <th>1</th>\n",
       "      <td>0.335</td>\n",
       "      <td>0.422</td>\n",
       "      <td>5</td>\n",
       "      <td>-15.172</td>\n",
       "      <td>0</td>\n",
       "      <td>0.0519</td>\n",
       "      <td>0.71600</td>\n",
       "      <td>0.000040</td>\n",
       "      <td>0.0455</td>\n",
       "      <td>0.553</td>\n",
       "      <td>97.660</td>\n",
       "      <td>audio_features</td>\n",
       "      <td>0u2CGItUO2jYEiFaXD7n5S</td>\n",
       "      <td>spotify:track:0u2CGItUO2jYEiFaXD7n5S</td>\n",
       "      <td>https://api.spotify.com/v1/tracks/0u2CGItUO2jY...</td>\n",
       "      <td>https://api.spotify.com/v1/audio-analysis/0u2C...</td>\n",
       "      <td>291760</td>\n",
       "      <td>4</td>\n",
       "    </tr>\n",
       "    <tr>\n",
       "      <th>2</th>\n",
       "      <td>0.256</td>\n",
       "      <td>0.679</td>\n",
       "      <td>9</td>\n",
       "      <td>-4.495</td>\n",
       "      <td>0</td>\n",
       "      <td>0.0387</td>\n",
       "      <td>0.00451</td>\n",
       "      <td>0.040900</td>\n",
       "      <td>0.1720</td>\n",
       "      <td>0.325</td>\n",
       "      <td>158.718</td>\n",
       "      <td>audio_features</td>\n",
       "      <td>40pPI2TbaYSZlKfV44HRjn</td>\n",
       "      <td>spotify:track:40pPI2TbaYSZlKfV44HRjn</td>\n",
       "      <td>https://api.spotify.com/v1/tracks/40pPI2TbaYSZ...</td>\n",
       "      <td>https://api.spotify.com/v1/audio-analysis/40pP...</td>\n",
       "      <td>295373</td>\n",
       "      <td>4</td>\n",
       "    </tr>\n",
       "    <tr>\n",
       "      <th>3</th>\n",
       "      <td>0.728</td>\n",
       "      <td>0.784</td>\n",
       "      <td>11</td>\n",
       "      <td>-11.776</td>\n",
       "      <td>1</td>\n",
       "      <td>0.0379</td>\n",
       "      <td>0.04490</td>\n",
       "      <td>0.091800</td>\n",
       "      <td>0.0964</td>\n",
       "      <td>0.964</td>\n",
       "      <td>129.981</td>\n",
       "      <td>audio_features</td>\n",
       "      <td>59VRFpPnC8pOhIH2WCWXF9</td>\n",
       "      <td>spotify:track:59VRFpPnC8pOhIH2WCWXF9</td>\n",
       "      <td>https://api.spotify.com/v1/tracks/59VRFpPnC8pO...</td>\n",
       "      <td>https://api.spotify.com/v1/audio-analysis/59VR...</td>\n",
       "      <td>247406</td>\n",
       "      <td>4</td>\n",
       "    </tr>\n",
       "    <tr>\n",
       "      <th>4</th>\n",
       "      <td>0.949</td>\n",
       "      <td>0.661</td>\n",
       "      <td>5</td>\n",
       "      <td>-4.244</td>\n",
       "      <td>0</td>\n",
       "      <td>0.0572</td>\n",
       "      <td>0.03020</td>\n",
       "      <td>0.000000</td>\n",
       "      <td>0.0454</td>\n",
       "      <td>0.760</td>\n",
       "      <td>104.504</td>\n",
       "      <td>audio_features</td>\n",
       "      <td>3yfqSUWxFvZELEM4PmlwIR</td>\n",
       "      <td>spotify:track:3yfqSUWxFvZELEM4PmlwIR</td>\n",
       "      <td>https://api.spotify.com/v1/tracks/3yfqSUWxFvZE...</td>\n",
       "      <td>https://api.spotify.com/v1/audio-analysis/3yfq...</td>\n",
       "      <td>284200</td>\n",
       "      <td>4</td>\n",
       "    </tr>\n",
       "  </tbody>\n",
       "</table>\n",
       "</div>"
      ],
      "text/plain": [
       "   danceability  energy  key  loudness  mode  speechiness  acousticness  \\\n",
       "0         0.532   0.887    0    -3.757     1       0.0335       0.07780   \n",
       "1         0.335   0.422    5   -15.172     0       0.0519       0.71600   \n",
       "2         0.256   0.679    9    -4.495     0       0.0387       0.00451   \n",
       "3         0.728   0.784   11   -11.776     1       0.0379       0.04490   \n",
       "4         0.949   0.661    5    -4.244     0       0.0572       0.03020   \n",
       "\n",
       "   instrumentalness  liveness  valence    tempo            type  \\\n",
       "0          0.000214    0.2940    0.795  122.511  audio_features   \n",
       "1          0.000040    0.0455    0.553   97.660  audio_features   \n",
       "2          0.040900    0.1720    0.325  158.718  audio_features   \n",
       "3          0.091800    0.0964    0.964  129.981  audio_features   \n",
       "4          0.000000    0.0454    0.760  104.504  audio_features   \n",
       "\n",
       "                       id                                   uri  \\\n",
       "0  37ZJ0p5Jm13JPevGcx4SkF  spotify:track:37ZJ0p5Jm13JPevGcx4SkF   \n",
       "1  0u2CGItUO2jYEiFaXD7n5S  spotify:track:0u2CGItUO2jYEiFaXD7n5S   \n",
       "2  40pPI2TbaYSZlKfV44HRjn  spotify:track:40pPI2TbaYSZlKfV44HRjn   \n",
       "3  59VRFpPnC8pOhIH2WCWXF9  spotify:track:59VRFpPnC8pOhIH2WCWXF9   \n",
       "4  3yfqSUWxFvZELEM4PmlwIR  spotify:track:3yfqSUWxFvZELEM4PmlwIR   \n",
       "\n",
       "                                          track_href  \\\n",
       "0  https://api.spotify.com/v1/tracks/37ZJ0p5Jm13J...   \n",
       "1  https://api.spotify.com/v1/tracks/0u2CGItUO2jY...   \n",
       "2  https://api.spotify.com/v1/tracks/40pPI2TbaYSZ...   \n",
       "3  https://api.spotify.com/v1/tracks/59VRFpPnC8pO...   \n",
       "4  https://api.spotify.com/v1/tracks/3yfqSUWxFvZE...   \n",
       "\n",
       "                                        analysis_url  duration_ms  \\\n",
       "0  https://api.spotify.com/v1/audio-analysis/37ZJ...       249293   \n",
       "1  https://api.spotify.com/v1/audio-analysis/0u2C...       291760   \n",
       "2  https://api.spotify.com/v1/audio-analysis/40pP...       295373   \n",
       "3  https://api.spotify.com/v1/audio-analysis/59VR...       247406   \n",
       "4  https://api.spotify.com/v1/audio-analysis/3yfq...       284200   \n",
       "\n",
       "   time_signature  \n",
       "0               4  \n",
       "1               4  \n",
       "2               4  \n",
       "3               4  \n",
       "4               4  "
      ]
     },
     "execution_count": 204,
     "metadata": {},
     "output_type": "execute_result"
    }
   ],
   "source": [
    "df_spotify_audio_feat=pd.read_csv(\"output_files/df_spotify_audio_feat.csv\")\n",
    "display(df_spotify_audio_feat.shape)\n",
    "df_spotify_audio_feat.head()"
   ]
  },
  {
   "cell_type": "markdown",
   "id": "0f9ae21d",
   "metadata": {},
   "source": [
    "## Function Definitions"
   ]
  },
  {
   "cell_type": "markdown",
   "id": "5af8fb45",
   "metadata": {},
   "source": [
    "### Inertia"
   ]
  },
  {
   "cell_type": "code",
   "execution_count": 206,
   "id": "e267bfd2",
   "metadata": {},
   "outputs": [],
   "source": [
    "def display_inertia(X_prep):\n",
    "    import numpy as np\n",
    "    K = range(2, 20)\n",
    "    inertia = []\n",
    "\n",
    "    for k in K:\n",
    "        kmeans = KMeans(n_clusters=k,random_state=1201)\n",
    "        kmeans.fit(X_prep)\n",
    "        inertia.append(kmeans.inertia_)\n",
    "\n",
    "    import matplotlib.pyplot as plt\n",
    "    %matplotlib inline\n",
    "\n",
    "    plt.figure(figsize=(16,8))\n",
    "    plt.plot(K, inertia, 'bx-')\n",
    "    plt.xlabel('k')\n",
    "    plt.ylabel('inertia')\n",
    "    plt.xticks(np.arange(min(K), max(K)+1, 1.0))\n",
    "    plt.title('Elbow Method showing the optimal k')"
   ]
  },
  {
   "cell_type": "markdown",
   "id": "4298cb54",
   "metadata": {},
   "source": [
    "### Silhoutte"
   ]
  },
  {
   "cell_type": "code",
   "execution_count": 207,
   "id": "fda061bd",
   "metadata": {},
   "outputs": [],
   "source": [
    "def display_silhoutte(X_prep):\n",
    "    K = range(2, 20)\n",
    "    silhouette = []\n",
    "\n",
    "    for k in K:\n",
    "        kmeans = KMeans(n_clusters=k,random_state=1201)\n",
    "        kmeans.fit(X_prep)\n",
    "        silhouette.append(silhouette_score(X_prep, kmeans.predict(X_prep)))\n",
    "\n",
    "\n",
    "    plt.figure(figsize=(16,8))\n",
    "    plt.plot(K, silhouette, 'bx-')\n",
    "    plt.xlabel('k')\n",
    "    plt.ylabel('silhouette score')\n",
    "    plt.xticks(np.arange(min(K), max(K)+1, 1.0))\n",
    "    plt.title('Slhouette score showing the optimal k')"
   ]
  },
  {
   "cell_type": "markdown",
   "id": "80565e4a",
   "metadata": {},
   "source": [
    "## KMeans Clustering"
   ]
  },
  {
   "cell_type": "code",
   "execution_count": 208,
   "id": "f6ce4f77",
   "metadata": {},
   "outputs": [],
   "source": [
    "drop_cols=['type','id','uri','track_href','analysis_url']\n",
    "scaler = StandardScaler()\n",
    "X_prep = scaler.fit_transform(df_spotify_audio_feat.drop(drop_cols,axis=1))"
   ]
  },
  {
   "cell_type": "markdown",
   "id": "34da9cd5",
   "metadata": {},
   "source": [
    "Caveat: Run only if needed while preparing new clusters"
   ]
  },
  {
   "cell_type": "code",
   "execution_count": 253,
   "id": "60087dec",
   "metadata": {},
   "outputs": [
    {
     "data": {
      "image/png": "[encoded data removed]",
      "text/plain": [
       "<Figure size 1600x800 with 1 Axes>"
      ]
     },
     "metadata": {},
     "output_type": "display_data"
    }
   ],
   "source": [
    "#display_inertia(X_prep)"
   ]
  },
  {
   "cell_type": "code",
   "execution_count": 254,
   "id": "3f3eecb6",
   "metadata": {},
   "outputs": [
    {
     "data": {
      "image/png": "[encoded data removed]",
      "text/plain": [
       "<Figure size 1600x800 with 1 Axes>"
      ]
     },
     "metadata": {},
     "output_type": "display_data"
    }
   ],
   "source": [
    "#display_silhoutte(X_prep)"
   ]
  },
  {
   "cell_type": "markdown",
   "id": "fbcbe59e",
   "metadata": {},
   "source": [
    "### Perform Clustering"
   ]
  },
  {
   "cell_type": "code",
   "execution_count": 211,
   "id": "1c5615da",
   "metadata": {},
   "outputs": [
    {
     "data": {
      "text/html": [
       "<style>#sk-container-id-7 {color: black;background-color: white;}#sk-container-id-7 pre{padding: 0;}#sk-container-id-7 div.sk-toggleable {background-color: white;}#sk-container-id-7 label.sk-toggleable__label {cursor: pointer;display: block;width: 100%;margin-bottom: 0;padding: 0.3em;box-sizing: border-box;text-align: center;}#sk-container-id-7 label.sk-toggleable__label-arrow:before {content: \"▸\";float: left;margin-right: 0.25em;color: #696969;}#sk-container-id-7 label.sk-toggleable__label-arrow:hover:before {color: black;}#sk-container-id-7 div.sk-estimator:hover label.sk-toggleable__label-arrow:before {color: black;}#sk-container-id-7 div.sk-toggleable__content {max-height: 0;max-width: 0;overflow: hidden;text-align: left;background-color: #f0f8ff;}#sk-container-id-7 div.sk-toggleable__content pre {margin: 0.2em;color: black;border-radius: 0.25em;background-color: #f0f8ff;}#sk-container-id-7 input.sk-toggleable__control:checked~div.sk-toggleable__content {max-height: 200px;max-width: 100%;overflow: auto;}#sk-container-id-7 input.sk-toggleable__control:checked~label.sk-toggleable__label-arrow:before {content: \"▾\";}#sk-container-id-7 div.sk-estimator input.sk-toggleable__control:checked~label.sk-toggleable__label {background-color: #d4ebff;}#sk-container-id-7 div.sk-label input.sk-toggleable__control:checked~label.sk-toggleable__label {background-color: #d4ebff;}#sk-container-id-7 input.sk-hidden--visually {border: 0;clip: rect(1px 1px 1px 1px);clip: rect(1px, 1px, 1px, 1px);height: 1px;margin: -1px;overflow: hidden;padding: 0;position: absolute;width: 1px;}#sk-container-id-7 div.sk-estimator {font-family: monospace;background-color: #f0f8ff;border: 1px dotted black;border-radius: 0.25em;box-sizing: border-box;margin-bottom: 0.5em;}#sk-container-id-7 div.sk-estimator:hover {background-color: #d4ebff;}#sk-container-id-7 div.sk-parallel-item::after {content: \"\";width: 100%;border-bottom: 1px solid gray;flex-grow: 1;}#sk-container-id-7 div.sk-label:hover label.sk-toggleable__label {background-color: #d4ebff;}#sk-container-id-7 div.sk-serial::before {content: \"\";position: absolute;border-left: 1px solid gray;box-sizing: border-box;top: 0;bottom: 0;left: 50%;z-index: 0;}#sk-container-id-7 div.sk-serial {display: flex;flex-direction: column;align-items: center;background-color: white;padding-right: 0.2em;padding-left: 0.2em;position: relative;}#sk-container-id-7 div.sk-item {position: relative;z-index: 1;}#sk-container-id-7 div.sk-parallel {display: flex;align-items: stretch;justify-content: center;background-color: white;position: relative;}#sk-container-id-7 div.sk-item::before, #sk-container-id-7 div.sk-parallel-item::before {content: \"\";position: absolute;border-left: 1px solid gray;box-sizing: border-box;top: 0;bottom: 0;left: 50%;z-index: -1;}#sk-container-id-7 div.sk-parallel-item {display: flex;flex-direction: column;z-index: 1;position: relative;background-color: white;}#sk-container-id-7 div.sk-parallel-item:first-child::after {align-self: flex-end;width: 50%;}#sk-container-id-7 div.sk-parallel-item:last-child::after {align-self: flex-start;width: 50%;}#sk-container-id-7 div.sk-parallel-item:only-child::after {width: 0;}#sk-container-id-7 div.sk-dashed-wrapped {border: 1px dashed gray;margin: 0 0.4em 0.5em 0.4em;box-sizing: border-box;padding-bottom: 0.4em;background-color: white;}#sk-container-id-7 div.sk-label label {font-family: monospace;font-weight: bold;display: inline-block;line-height: 1.2em;}#sk-container-id-7 div.sk-label-container {text-align: center;}#sk-container-id-7 div.sk-container {/* jupyter's `normalize.less` sets `[hidden] { display: none; }` but bootstrap.min.css set `[hidden] { display: none !important; }` so we also need the `!important` here to be able to override the default hidden behavior on the sphinx rendered scikit-learn.org. See: https://github.com/scikit-learn/scikit-learn/issues/21755 */display: inline-block !important;position: relative;}#sk-container-id-7 div.sk-text-repr-fallback {display: none;}</style><div id=\"sk-container-id-7\" class=\"sk-top-container\"><div class=\"sk-text-repr-fallback\"><pre>KMeans(n_clusters=10, random_state=1201)</pre><b>In a Jupyter environment, please rerun this cell to show the HTML representation or trust the notebook. <br />On GitHub, the HTML representation is unable to render, please try loading this page with nbviewer.org.</b></div><div class=\"sk-container\" hidden><div class=\"sk-item\"><div class=\"sk-estimator sk-toggleable\"><input class=\"sk-toggleable__control sk-hidden--visually\" id=\"sk-estimator-id-7\" type=\"checkbox\" checked><label for=\"sk-estimator-id-7\" class=\"sk-toggleable__label sk-toggleable__label-arrow\">KMeans</label><div class=\"sk-toggleable__content\"><pre>KMeans(n_clusters=10, random_state=1201)</pre></div></div></div></div></div>"
      ],
      "text/plain": [
       "KMeans(n_clusters=10, random_state=1201)"
      ]
     },
     "execution_count": 211,
     "metadata": {},
     "output_type": "execute_result"
    }
   ],
   "source": [
    "kmeans = KMeans(n_clusters=10, random_state=1201)\n",
    "kmeans.fit(X_prep)"
   ]
  },
  {
   "cell_type": "code",
   "execution_count": 212,
   "id": "b93bfc7c",
   "metadata": {},
   "outputs": [
    {
     "data": {
      "text/plain": [
       "array([8, 6, 4, ..., 3, 8, 7])"
      ]
     },
     "execution_count": 212,
     "metadata": {},
     "output_type": "execute_result"
    }
   ],
   "source": [
    "clusters = kmeans.predict(X_prep)\n",
    "clusters"
   ]
  },
  {
   "cell_type": "code",
   "execution_count": 213,
   "id": "0387c559",
   "metadata": {},
   "outputs": [],
   "source": [
    "df_spotify_audio_feat['cluster']=clusters"
   ]
  },
  {
   "cell_type": "markdown",
   "id": "2090745f",
   "metadata": {},
   "source": [
    "### Merge the Spotify Songs Info with calculated clusters from the prediction model"
   ]
  },
  {
   "cell_type": "code",
   "execution_count": 214,
   "id": "c9ba2d00",
   "metadata": {},
   "outputs": [
    {
     "data": {
      "text/html": [
       "<div>\n",
       "<style scoped>\n",
       "    .dataframe tbody tr th:only-of-type {\n",
       "        vertical-align: middle;\n",
       "    }\n",
       "\n",
       "    .dataframe tbody tr th {\n",
       "        vertical-align: top;\n",
       "    }\n",
       "\n",
       "    .dataframe thead th {\n",
       "        text-align: right;\n",
       "    }\n",
       "</style>\n",
       "<table border=\"1\" class=\"dataframe\">\n",
       "  <thead>\n",
       "    <tr style=\"text-align: right;\">\n",
       "      <th></th>\n",
       "      <th>track</th>\n",
       "      <th>artist</th>\n",
       "      <th>href</th>\n",
       "      <th>uri</th>\n",
       "      <th>cluster</th>\n",
       "    </tr>\n",
       "  </thead>\n",
       "  <tbody>\n",
       "    <tr>\n",
       "      <th>0</th>\n",
       "      <td>Livin' On A Prayer</td>\n",
       "      <td>Bon Jovi</td>\n",
       "      <td>https://api.spotify.com/v1/tracks/37ZJ0p5Jm13J...</td>\n",
       "      <td>spotify:track:37ZJ0p5Jm13JPevGcx4SkF</td>\n",
       "      <td>8</td>\n",
       "    </tr>\n",
       "    <tr>\n",
       "      <th>1</th>\n",
       "      <td>Wishing on a Star</td>\n",
       "      <td>Rose Royce</td>\n",
       "      <td>https://api.spotify.com/v1/tracks/0u2CGItUO2jY...</td>\n",
       "      <td>spotify:track:0u2CGItUO2jYEiFaXD7n5S</td>\n",
       "      <td>6</td>\n",
       "    </tr>\n",
       "    <tr>\n",
       "      <th>2</th>\n",
       "      <td>Supremacy</td>\n",
       "      <td>Muse</td>\n",
       "      <td>https://api.spotify.com/v1/tracks/40pPI2TbaYSZ...</td>\n",
       "      <td>spotify:track:40pPI2TbaYSZlKfV44HRjn</td>\n",
       "      <td>4</td>\n",
       "    </tr>\n",
       "    <tr>\n",
       "      <th>3</th>\n",
       "      <td>Saturday Night - Radio Mix</td>\n",
       "      <td>Whigfield</td>\n",
       "      <td>https://api.spotify.com/v1/tracks/59VRFpPnC8pO...</td>\n",
       "      <td>spotify:track:59VRFpPnC8pOhIH2WCWXF9</td>\n",
       "      <td>8</td>\n",
       "    </tr>\n",
       "    <tr>\n",
       "      <th>4</th>\n",
       "      <td>The Real Slim Shady</td>\n",
       "      <td>Eminem</td>\n",
       "      <td>https://api.spotify.com/v1/tracks/3yfqSUWxFvZE...</td>\n",
       "      <td>spotify:track:3yfqSUWxFvZELEM4PmlwIR</td>\n",
       "      <td>1</td>\n",
       "    </tr>\n",
       "  </tbody>\n",
       "</table>\n",
       "</div>"
      ],
      "text/plain": [
       "                        track      artist  \\\n",
       "0          Livin' On A Prayer    Bon Jovi   \n",
       "1           Wishing on a Star  Rose Royce   \n",
       "2                   Supremacy        Muse   \n",
       "3  Saturday Night - Radio Mix   Whigfield   \n",
       "4         The Real Slim Shady      Eminem   \n",
       "\n",
       "                                                href  \\\n",
       "0  https://api.spotify.com/v1/tracks/37ZJ0p5Jm13J...   \n",
       "1  https://api.spotify.com/v1/tracks/0u2CGItUO2jY...   \n",
       "2  https://api.spotify.com/v1/tracks/40pPI2TbaYSZ...   \n",
       "3  https://api.spotify.com/v1/tracks/59VRFpPnC8pO...   \n",
       "4  https://api.spotify.com/v1/tracks/3yfqSUWxFvZE...   \n",
       "\n",
       "                                    uri  cluster  \n",
       "0  spotify:track:37ZJ0p5Jm13JPevGcx4SkF        8  \n",
       "1  spotify:track:0u2CGItUO2jYEiFaXD7n5S        6  \n",
       "2  spotify:track:40pPI2TbaYSZlKfV44HRjn        4  \n",
       "3  spotify:track:59VRFpPnC8pOhIH2WCWXF9        8  \n",
       "4  spotify:track:3yfqSUWxFvZELEM4PmlwIR        1  "
      ]
     },
     "execution_count": 214,
     "metadata": {},
     "output_type": "execute_result"
    }
   ],
   "source": [
    "df_spotify_info=pd.read_csv(\"output_files/df_spotify_info.csv\")\n",
    "df_billboard_100=pd.read_csv(\"output_files/df_billboard_100.csv\")\n",
    "\n",
    "df_spotify_song_cluster = pd.merge(left = df_spotify_info,\n",
    "                                 right = df_spotify_audio_feat[['uri','cluster']],\n",
    "                                 how = 'inner', \n",
    "                                 left_on = ['uri'], \n",
    "                                 right_on= ['uri'])\n",
    "df_spotify_song_cluster.head()"
   ]
  },
  {
   "cell_type": "markdown",
   "id": "06a2b870",
   "metadata": {},
   "source": [
    "### Initialization Function for Spotify API Handler Object"
   ]
  },
  {
   "cell_type": "code",
   "execution_count": 215,
   "id": "446d74ce",
   "metadata": {},
   "outputs": [],
   "source": [
    "def init_spotify(auth_file):\n",
    "    secrets_file = open(auth_file,\"r\")\n",
    "    secrets_dict={}\n",
    "    for line in secrets_file.read().split('\\n'):\n",
    "        if len(line) > 0:\n",
    "            secrets_dict[line.split(':')[0]]=line.split(':')[1]\n",
    "    return spotipy.Spotify(auth_manager=SpotifyClientCredentials(client_id=secrets_dict['clientid'],\n",
    "                                                               client_secret=secrets_dict['clientsecret']))"
   ]
  },
  {
   "cell_type": "markdown",
   "id": "d82201c6",
   "metadata": {},
   "source": [
    "### Initialize Spotify API Handler"
   ]
  },
  {
   "cell_type": "code",
   "execution_count": 216,
   "id": "1aeaaa44",
   "metadata": {},
   "outputs": [],
   "source": [
    "auth_file=\"secrets.txt\"\n",
    "sp=init_spotify(auth_file)"
   ]
  },
  {
   "cell_type": "markdown",
   "id": "290e5939",
   "metadata": {},
   "source": [
    "### Song Recommender Function"
   ]
  },
  {
   "cell_type": "code",
   "execution_count": 244,
   "id": "7c0879a3",
   "metadata": {
    "scrolled": true
   },
   "outputs": [],
   "source": [
    "def recommend_song(input_title,input_artist):\n",
    "    df_search_result=df_billboard_100[(df_billboard_100['title'].str.contains(input_title, case=False)) & (df_billboard_100['artist'].str.contains(input_artist, case=False))]\n",
    "    if len(df_search_result)>0:\n",
    "        print(\"Recommendations found from the Billboard top 100.\")\n",
    "        preference_result=df_billboard_100[~df_billboard_100.index.isin([df_search_result.index.values[0]])].reset_index(drop=True)\n",
    "        random_index=randint(1,len(preference_result.index))\n",
    "        print()\n",
    "        print(\"Title: \", preference_result.iloc[random_index,0])\n",
    "        print(\"Artist: \", preference_result.iloc[random_index,1])\n",
    "    else:\n",
    "        results = sp.search(q=input_title+' '+input_artist, limit=50)\n",
    "        print(\"No recommendations were found in the Billboard top 100. Looking into other recommendations for you..\")\n",
    "        print()\n",
    "        print(\"Your Input Song:\")\n",
    "        print()\n",
    "        print(\"Track: \", results['tracks']['items'][0]['name'])\n",
    "        print(\"Artist: \", results['tracks']['items'][0]['artists'][0]['name'])\n",
    "        print(\"Link: \", results['tracks']['items'][0]['href'])\n",
    "        print(\"URI: \", results['tracks']['items'][0]['uri'])\n",
    "        print()\n",
    "        X_prep = scaler.transform(pd.DataFrame.from_dict(sp.audio_features(results['tracks']['items'][0]['uri'])).drop(drop_cols,axis=1))\n",
    "        cluster = kmeans.predict(X_prep)\n",
    "        preference_result=df_spotify_info[df_spotify_song_cluster['cluster']==cluster[0]]\n",
    "        random_index=randint(1,len(preference_result.index))\n",
    "        print(\"Your Recommendation:\")\n",
    "        print()\n",
    "        print(\"Track: \", preference_result.iloc[random_index,0])\n",
    "        print(\"Artist: \", preference_result.iloc[random_index,1])\n",
    "        print(\"Link: \", preference_result.iloc[random_index,2])\n",
    "        print(\"URI: \", preference_result.iloc[random_index,3])"
   ]
  },
  {
   "cell_type": "markdown",
   "id": "96ea07c8",
   "metadata": {},
   "source": [
    "### Run Recommender"
   ]
  },
  {
   "cell_type": "code",
   "execution_count": 252,
   "id": "eae878c5",
   "metadata": {
    "scrolled": true
   },
   "outputs": [
    {
     "name": "stdout",
     "output_type": "stream",
     "text": [
      "-- SONG RECOMMENDER SYSTEM --\n",
      "\n",
      "Enter the title of the song:da da da\n",
      "Enter the artist of the song:trio\n",
      "No recommendations were found in the Billboard top 100. Looking into other recommendations for you..\n",
      "\n",
      "Your Input Song:\n",
      "\n",
      "Track:  Da Da Da I Don't Love You You Don't Love Me Aha Aha Aha\n",
      "Artist:  Trio\n",
      "Link:  https://api.spotify.com/v1/tracks/5XZkMrlZsAqY9ltgN1cN4b\n",
      "URI:  spotify:track:5XZkMrlZsAqY9ltgN1cN4b\n",
      "\n",
      "Your Recommendation:\n",
      "\n",
      "Track:  Стрелы\n",
      "Artist:  Markul\n",
      "Link:  https://api.spotify.com/v1/tracks/2xKA5mKz7swl48YzRsw6d3\n",
      "URI:  spotify:track:2xKA5mKz7swl48YzRsw6d3\n"
     ]
    }
   ],
   "source": [
    "print(\"-- SONG RECOMMENDER SYSTEM --\")\n",
    "print()\n",
    "input_title = input(\"Enter the title of the song:\")\n",
    "input_artist = input(\"Enter the artist of the song:\")\n",
    "recommend_song(input_title,input_artist)"
   ]
  }
 ],
 "metadata": {
  "kernelspec": {
   "display_name": "Python 3 (ipykernel)",
   "language": "python",
   "name": "python3"
  },
  "language_info": {
   "codemirror_mode": {
    "name": "ipython",
    "version": 3
   },
   "file_extension": ".py",
   "mimetype": "text/x-python",
   "name": "python",
   "nbconvert_exporter": "python",
   "pygments_lexer": "ipython3",
   "version": "3.9.13"
  }
 },
 "nbformat": 4,
 "nbformat_minor": 5
}
